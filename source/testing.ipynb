{
 "cells": [
  {
   "cell_type": "code",
   "execution_count": 152,
   "id": "251855b2",
   "metadata": {},
   "outputs": [],
   "source": [
    "import requests\n",
    "from bs4 import BeautifulSoup as bs\n",
    "import csv\n",
    "import regex as re\n",
    "import concurrent.futures\n",
    "import time\n",
    "import sys\n",
    "from pathlib import Path"
   ]
  },
  {
   "cell_type": "code",
   "execution_count": 153,
   "id": "5ad41819",
   "metadata": {},
   "outputs": [],
   "source": [
    "# File paths relative to .exe location\n",
    "WEBPATH_FILE =\"webpath.txt\"\n",
    "FREQUENCY_FILE =\"frequency.txt\"\n",
    "RESULT_FILE = \"scraperesult.csv\"\n",
    "FAULTY_FILE = \"faultypath.txt\"\n",
    "\n",
    "with open(WEBPATH_FILE, \"r\") as file:\n",
    "    webpath = file.readlines()\n",
    "\n",
    "# Some global constants for scraping\n",
    "# such as headers, name and price patterns, \n",
    "# and return values for not found cases\n",
    "HEADERS = {\"User-Agent\": \"Mozilla/5.0 (Windows NT 11.0; Win64; x64) AppleWebKit/537.36 (KHTML, like Gecko) Chrome/134.0.6998.166 Safari/537.36\"}\n",
    "PATTERNS = {\n",
    "    \"bunnings\": [\n",
    "        re.compile(r\"MuiTypography-root sc-500f213-2 .* MuiTypography-h1\"), \n",
    "        \"sc-bbcf7fe4-3 kAMCuk\"\n",
    "    ],\n",
    "    \"jbhifi\": [\n",
    "        re.compile(r\"_12mtftw9\"),  # Name pattern\n",
    "        \"PriceTag_actualWrapperDefault__1eb7mu915\"  # Updated price pattern\n",
    "    ]\n",
    "}\n",
    "NOTFOUND = \"N/A\""
   ]
  },
  {
   "cell_type": "code",
   "execution_count": 154,
   "id": "a0f51bed",
   "metadata": {},
   "outputs": [],
   "source": [
    "# Function to get the website name from the URL\n",
    "def get_website_name(url):\n",
    "    \"\"\"Extract website name from URL using regex.\"\"\"\n",
    "    pattern = r'https?://(?:www\\.)?([^.]+)'\n",
    "    match = re.search(pattern, url)\n",
    "    return match.group(1) if match else NOTFOUND"
   ]
  },
  {
   "cell_type": "code",
   "execution_count": 155,
   "id": "e9f8184b",
   "metadata": {},
   "outputs": [
    {
     "name": "stdout",
     "output_type": "stream",
     "text": [
      "bunnings\n",
      "bunnings\n",
      "bunnings\n",
      "bunnings\n",
      "jbhifi\n",
      "jbhifi\n",
      "jbhifi\n"
     ]
    }
   ],
   "source": [
    "for line in webpath:\n",
    "    print(get_website_name(line.strip()))"
   ]
  },
  {
   "cell_type": "code",
   "execution_count": 156,
   "id": "8a84c727",
   "metadata": {},
   "outputs": [],
   "source": [
    "from selenium import webdriver\n",
    "from selenium.webdriver.common.by import By\n",
    "from selenium.webdriver.support.ui import WebDriverWait\n",
    "from selenium.webdriver.support import expected_conditions as EC\n",
    "from selenium.webdriver.chrome.options import Options\n",
    "\n",
    "def scrape_with_selenium(url, patterns):\n",
    "    \"\"\"Scrape JB Hi-Fi using Selenium to handle JavaScript\"\"\"\n",
    "    options = Options()\n",
    "    options.add_argument('--headless')  # Run in background\n",
    "    options.add_argument('--no-sandbox')\n",
    "    options.add_argument('--disable-dev-shm-usage')\n",
    "\n",
    "    driver = webdriver.Chrome(options=options)\n",
    "    NAMEPATTERN, PRICEPATTERN = patterns\n",
    "    \n",
    "    try:\n",
    "        driver.get(url)\n",
    "        \n",
    "        # Wait for price element to load\n",
    "        price_element = driver.find_element(By.CLASS_NAME, PRICEPATTERN)\n",
    "        \n",
    "        # Get the price text\n",
    "        price_text = \"\".join(price_element.text.split())\n",
    "        \n",
    "        # Get product name\n",
    "        try:\n",
    "            name_element = driver.find_element(By.TAG_NAME, 'h1')\n",
    "            name_text = name_element.text\n",
    "        except:\n",
    "            name_text = NOTFOUND\n",
    "            \n",
    "        return (name_text, price_text)\n",
    "        \n",
    "    except Exception as e:\n",
    "        return (NOTFOUND, NOTFOUND)\n",
    "    finally:\n",
    "        driver.quit()"
   ]
  },
  {
   "cell_type": "code",
   "execution_count": 157,
   "id": "0dd12328",
   "metadata": {},
   "outputs": [],
   "source": [
    "def scrape_requests(url, patterns):\n",
    "    \n",
    "    NAMEPATTERN, PRICEPATTERN = patterns\n",
    "    \n",
    "    try:\n",
    "        response = requests.get(url, headers=HEADERS, timeout=10)    \n",
    "\n",
    "        if response.status_code == 200:\n",
    "            soup = bs(response.content, \"html.parser\")\n",
    "            name = soup.find(\"h1\", class_=NAMEPATTERN) # Get the product name\n",
    "            price = soup.find(\"p\", class_=PRICEPATTERN) # Get the price tag\n",
    "\n",
    "            name = name.text.strip() if name else NOTFOUND\n",
    "            price = price.text.strip() if price else NOTFOUND\n",
    "            \n",
    "        else:\n",
    "            name = price = NOTFOUND\n",
    "        \n",
    "    except requests.RequestException as e:\n",
    "        name = price = NOTFOUND\n",
    "\n",
    "    return (name, price)"
   ]
  },
  {
   "cell_type": "code",
   "execution_count": 158,
   "id": "2690862a",
   "metadata": {},
   "outputs": [],
   "source": [
    "def scrape_single_url(url):\n",
    "    url = url.strip()\n",
    "    website_name = get_website_name(url)\n",
    "    patterns = PATTERNS.get(website_name, (NOTFOUND, NOTFOUND))\n",
    "\n",
    "    try:\n",
    "        name, price = scrape_requests(url, patterns)\n",
    "        if name == NOTFOUND or price == NOTFOUND:\n",
    "            name, price = scrape_with_selenium(url, patterns)\n",
    "        \n",
    "        return (url, name, price)\n",
    "    except Exception as e:\n",
    "        print(f\"Error scraping {url}: {e}\")\n",
    "        return (url, NOTFOUND, NOTFOUND)"
   ]
  },
  {
   "cell_type": "code",
   "execution_count": 159,
   "id": "cd6a75f6",
   "metadata": {},
   "outputs": [],
   "source": [
    "# Parallel scraping \n",
    "def paralle_scrape(webpath, max_workers=5):\n",
    "    start_time = time.time()\n",
    "\n",
    "    # I don't really understand how parallel process works\n",
    "    # so this is just a copy past from the internet\n",
    "    with concurrent.futures.ThreadPoolExecutor(max_workers=max_workers) as executor:\n",
    "        results = list(executor.map(scrape_single_url, webpath))\n",
    "\n",
    "    end_time = time.time()\n",
    "    print(f\"Scraping completed in {end_time - start_time:.2f} seconds\")\n",
    "\n",
    "    return results"
   ]
  },
  {
   "cell_type": "code",
   "execution_count": 160,
   "id": "8c93f76b",
   "metadata": {},
   "outputs": [
    {
     "name": "stdout",
     "output_type": "stream",
     "text": [
      "Scraping completed in 36.54 seconds\n",
      "[('https://www.bunnings.com.au/dulux-4l-interior-paint-wash-wear-plus-kitchen-bathroom-low-sheen-vivid-white-4l_p1370128', 'Dulux 4L Interior Paint Wash&Wear +PLUS Kitchen & Bathroom Low Sheen Vivid White - 4L', '$125.50'), ('https://www.bunnings.com.au/200-x-50mm-2-4m-treated-pine-sleeper-h4_p8032702', '200 x 50mm 2.4m Treated Pine Sleeper H4', '$18'), ('https://www.bunnings.com.au/ozito-1800w-2030psi-high-pressure-washer_p0254158', 'Ozito 1800W 2030PSI High Pressure Washer', '$99'), ('https://www.bunnings.com.au/estilo-chrome-3-function-hand-shower-connector-set-wels-3-star-rated-9l-min_p5002610', 'Estilo Chrome 3 Function Hand Shower & Connector Set WELS 3 Star Rated 9L/min', '$31.97'), ('https://www.jbhifi.com.au/products/philips-hue-lightstrip-1m-extension', 'Philips Hue Lightstrip 1m Extension', '$25'), ('https://www.jbhifi.com.au/products/apple-macbook-pro-14-inch-with-m4-pro-chip-512gb-24gb-space-black2024', 'Apple MacBook Pro 14-inch with M4 Pro Chip, 512GB/24GB (Space Black)[2024]', '$2968'), ('https://www.jbhifi.com.au/products/microsoft-surface-laptop-7th-edition-copilot-pc-13-8-snapdragon-x-plus-10-core-16gb-512gb-sapphire-1', 'Microsoft Surface Laptop (7th Edition) Copilot+ PC 13.8\" Snapdragon X Plus 10 core/16GB/512GB (Sapphire)', '$1699')]\n"
     ]
    }
   ],
   "source": [
    "new_scrape = paralle_scrape(webpath, max_workers=8)\n",
    "print(new_scrape)"
   ]
  },
  {
   "cell_type": "code",
   "execution_count": 161,
   "id": "51804d02",
   "metadata": {},
   "outputs": [],
   "source": [
    "def read_from_csv(file):\n",
    "    with open(file, \"r\") as csv_file:\n",
    "        csv_file = csv.reader(csv_file)\n",
    "        headers = next(csv_file)  # Read the header line\n",
    "        data = {}\n",
    "\n",
    "        print(list(csv_file))\n",
    "        for line in list(csv_file)[1:]:\n",
    "            data[line[0]] = {key: value for \n",
    "                             key, value in zip(headers[1:], \n",
    "                                               line[1:])}\n",
    "    return headers, data"
   ]
  },
  {
   "cell_type": "code",
   "execution_count": 162,
   "id": "f8865738",
   "metadata": {},
   "outputs": [
    {
     "name": "stdout",
     "output_type": "stream",
     "text": [
      "[[], ['Dulux 4L Interior Paint Wash&Wear +PLUS Kitchen & Bathroom Low Sheen Vivid White - 4L', 'https://www.bunnings.com.au/dulux-4l-interior-paint-wash-wear-plus-kitchen-bathroom-low-sheen-vivid-white-4l_p1370128', '$125.50', '30-06-2025', '30-06-2025', '$125.50'], [], ['200 x 50mm 2.4m Treated Pine Sleeper H4', 'https://www.bunnings.com.au/200-x-50mm-2-4m-treated-pine-sleeper-h4_p8032702', '$18', '30-06-2025', '30-06-2025', '$18'], [], ['Ozito 1800W 2030PSI High Pressure Washer', 'https://www.bunnings.com.au/ozito-1800w-2030psi-high-pressure-washer_p0254158', '$99', '30-06-2025', '30-06-2025', '$99'], [], ['Estilo Chrome 3 Function Hand Shower & Connector Set WELS 3 Star Rated 9L/min', 'https://www.bunnings.com.au/estilo-chrome-3-function-hand-shower-connector-set-wels-3-star-rated-9l-min_p5002610', '$31.97', '30-06-2025', '30-06-2025', '$31.97'], [], ['Philips Hue Lightstrip 1m Extension', 'https://www.jbhifi.com.au/products/philips-hue-lightstrip-1m-extension', '$25', '30-06-2025', '30-06-2025', '$25'], [], ['Apple MacBook Pro 14-inch with M4 Pro Chip, 512GB/24GB (Space Black)[2024]', 'https://www.jbhifi.com.au/products/apple-macbook-pro-14-inch-with-m4-pro-chip-512gb-24gb-space-black2024', '$2968', '30-06-2025', '30-06-2025', '$2968'], [], ['Microsoft Surface Laptop (7th Edition) Copilot+ PC 13.8\" Snapdragon X Plus 10 core/16GB/512GB (Sapphire)', 'https://www.jbhifi.com.au/products/microsoft-surface-laptop-7th-edition-copilot-pc-13-8-snapdragon-x-plus-10-core-16gb-512gb-sapphire-1', '$1699', '30-06-2025', '30-06-2025', '$1699'], []]\n",
      "['Name', 'Link', 'Lowest Price', ' Start Date', ' End Date', ' Today Price']\n",
      "{}\n"
     ]
    }
   ],
   "source": [
    "headers, old_scrape = read_from_csv(\"scraperesult.csv\")\n",
    "print(headers)\n",
    "print(old_scrape)"
   ]
  },
  {
   "cell_type": "code",
   "execution_count": 163,
   "id": "447f3508",
   "metadata": {},
   "outputs": [],
   "source": [
    "def create_new_item_entry(name, path, price, today_date):\n",
    "    \"\"\"Create entry for a new item not in old data.\"\"\"\n",
    "    return (name, path, price, today_date, today_date, price)\n",
    "\n",
    "def create_lower_price_entry(name, path, new_price, today_date):\n",
    "    \"\"\"Create entry when new price is lower than old price.\"\"\"\n",
    "    return (name, path, new_price, today_date, today_date, new_price)\n",
    "\n",
    "def create_same_price_entry(name, path, price, old_item, today_date):\n",
    "    \"\"\"Create entry when price hasn't changed - extend the date range.\"\"\"\n",
    "    return (name, path, price, \n",
    "            old_item.get(\"Start Date\", today_date), \n",
    "            today_date, \n",
    "            price)\n",
    "\n",
    "def create_higher_price_entry(name, path, old_item, new_price):\n",
    "    \"\"\"Create entry when new price is higher - keep old lowest price.\"\"\"\n",
    "    old_price = old_item[\"price\"]\n",
    "    return (name, path, old_price, \n",
    "            old_item.get(\"Start Date\", \"\"), \n",
    "            old_item.get(\"End Date\", \"\"), \n",
    "            new_price)\n",
    "\n",
    "def process_single_item(path, name, price, old_scrape, today_date):\n",
    "    \"\"\"Process a single scraped item and return the appropriate entry.\"\"\"\n",
    "    if name == NOTFOUND or price == NOTFOUND:\n",
    "        return path\n",
    "        \n",
    "    curr_price = float(price.replace(\"$\", \"\"))\n",
    "    \n",
    "    # New item - not in old data\n",
    "    if name not in old_scrape:\n",
    "        return create_new_item_entry(name, path, price, today_date)\n",
    "    \n",
    "    # Existing item - compare prices\n",
    "    old_item = old_scrape[name]\n",
    "    old_price = float(old_item[\"Lowest Price\"].replace(\"$\", \"\"))\n",
    "    \n",
    "    if curr_price < old_price:\n",
    "        return create_lower_price_entry(name, path, price, today_date)\n",
    "    elif curr_price == old_price:\n",
    "        return create_same_price_entry(name, path, price, old_item, today_date)\n",
    "    else:\n",
    "        return create_higher_price_entry(name, path, old_item, price)\n",
    "\n",
    "def compareScrape_new_old(new_scrape, old_scrape):\n",
    "    \"\"\"Compare new scrape results with old data and create updated entries.\n",
    "    \n",
    "    Args:\n",
    "        new_scrape: List of (path, name, price) tuples from current scrape\n",
    "        old_scrape: Dictionary of existing item data\n",
    "        \n",
    "    Returns:\n",
    "        List of processed entries ready for CSV writing\n",
    "    \"\"\"\n",
    "    data = []\n",
    "    faulty_links = []\n",
    "    today_date = time.strftime(\"%d-%m-%Y\")\n",
    "    \n",
    "    for path, name, price in new_scrape:\n",
    "        entry = process_single_item(path, name, price, old_scrape, today_date)\n",
    "        if entry == path:\n",
    "            faulty_links.append(path)\n",
    "              # Only add valid entries\n",
    "        elif entry:\n",
    "            data.append(entry)\n",
    "            \n",
    "    return data, faulty_links"
   ]
  },
  {
   "cell_type": "code",
   "execution_count": 164,
   "id": "ad3a3604",
   "metadata": {},
   "outputs": [
    {
     "name": "stdout",
     "output_type": "stream",
     "text": [
      "[('Dulux 4L Interior Paint Wash&Wear +PLUS Kitchen & Bathroom Low Sheen Vivid White - 4L', 'https://www.bunnings.com.au/dulux-4l-interior-paint-wash-wear-plus-kitchen-bathroom-low-sheen-vivid-white-4l_p1370128', '$125.50', '30-06-2025', '30-06-2025', '$125.50'), ('200 x 50mm 2.4m Treated Pine Sleeper H4', 'https://www.bunnings.com.au/200-x-50mm-2-4m-treated-pine-sleeper-h4_p8032702', '$18', '30-06-2025', '30-06-2025', '$18'), ('Ozito 1800W 2030PSI High Pressure Washer', 'https://www.bunnings.com.au/ozito-1800w-2030psi-high-pressure-washer_p0254158', '$99', '30-06-2025', '30-06-2025', '$99'), ('Estilo Chrome 3 Function Hand Shower & Connector Set WELS 3 Star Rated 9L/min', 'https://www.bunnings.com.au/estilo-chrome-3-function-hand-shower-connector-set-wels-3-star-rated-9l-min_p5002610', '$31.97', '30-06-2025', '30-06-2025', '$31.97'), ('Philips Hue Lightstrip 1m Extension', 'https://www.jbhifi.com.au/products/philips-hue-lightstrip-1m-extension', '$25', '30-06-2025', '30-06-2025', '$25'), ('Apple MacBook Pro 14-inch with M4 Pro Chip, 512GB/24GB (Space Black)[2024]', 'https://www.jbhifi.com.au/products/apple-macbook-pro-14-inch-with-m4-pro-chip-512gb-24gb-space-black2024', '$2968', '30-06-2025', '30-06-2025', '$2968'), ('Microsoft Surface Laptop (7th Edition) Copilot+ PC 13.8\" Snapdragon X Plus 10 core/16GB/512GB (Sapphire)', 'https://www.jbhifi.com.au/products/microsoft-surface-laptop-7th-edition-copilot-pc-13-8-snapdragon-x-plus-10-core-16gb-512gb-sapphire-1', '$1699', '30-06-2025', '30-06-2025', '$1699')]\n"
     ]
    }
   ],
   "source": [
    "new_data, faulty_links = compareScrape_new_old(new_scrape, old_scrape)\n",
    "print(new_data)"
   ]
  },
  {
   "cell_type": "code",
   "execution_count": 165,
   "id": "82ddc632",
   "metadata": {},
   "outputs": [],
   "source": [
    "def write_to_csv(file, headers, data):\n",
    "    # Use newline='' to prevent blank lines on Windows\n",
    "    with open(file, \"w\") as csv_file:\n",
    "        writer = csv.writer(csv_file)\n",
    "        writer.writerow(headers)\n",
    "        for line in data:\n",
    "            writer.writerow(line)"
   ]
  },
  {
   "cell_type": "code",
   "execution_count": 166,
   "id": "b89b6564",
   "metadata": {},
   "outputs": [],
   "source": [
    "write_to_csv(\"scraperesult.csv\", headers, new_data)"
   ]
  }
 ],
 "metadata": {
  "kernelspec": {
   "display_name": "scraper",
   "language": "python",
   "name": "python3"
  },
  "language_info": {
   "codemirror_mode": {
    "name": "ipython",
    "version": 3
   },
   "file_extension": ".py",
   "mimetype": "text/x-python",
   "name": "python",
   "nbconvert_exporter": "python",
   "pygments_lexer": "ipython3",
   "version": "3.13.5"
  }
 },
 "nbformat": 4,
 "nbformat_minor": 5
}
